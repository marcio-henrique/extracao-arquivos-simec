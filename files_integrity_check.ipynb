{
 "cells": [
  {
   "cell_type": "code",
   "execution_count": 6,
   "metadata": {},
   "outputs": [],
   "source": [
    "import pandas as pd\n",
    "import numpy as np\n",
    "import os\n",
    "import hashlib\n",
    "import math\n",
    "import shutil\n",
    "import unidecode\n",
    "import sys"
   ]
  },
  {
   "cell_type": "code",
   "execution_count": 19,
   "metadata": {},
   "outputs": [],
   "source": [
    "df = pd.read_csv(\n",
    "         'dados/atual.csv',\n",
    "         dtype=str,\n",
    "    )"
   ]
  },
  {
   "cell_type": "code",
   "execution_count": null,
   "metadata": {
    "collapsed": true
   },
   "outputs": [],
   "source": [
    "# def set_caminho_local():\n",
    "#     for index, row in df.iterrows():\n",
    "#         if (row['Formato'] in ['Digital', 'Audiovisual']):\n",
    "#             if (type(row['id_zip']) is str):\n",
    "#                 #print('rowz')\n",
    "#                 rows_zip = zipado[zipado['id'] == row['id']]\n",
    "#                 #print(rows_zip)\n",
    "#                 for i_zip, r_zip in rows_zip.iterrows():\n",
    "#                     if (r_zip['Nome do Arquivo'] != row['Nome do Arquivo']):\n",
    "#                         continue\n",
    "\n",
    "#                     print(r_zip['Nome do Arquivo'] + ' - ' + row['Nome do Arquivo'])\n",
    "#                     df.at[index, 'Caminho Local'] = r_zip['Caminho Local']\n",
    "#                     print (df.at[index, 'Caminho Local'])\n",
    "#                     print('OK')"
   ]
  },
  {
   "cell_type": "code",
   "execution_count": 9,
   "metadata": {},
   "outputs": [],
   "source": [
    "def generate_file_md5(filename, blocksize=2**20):\n",
    "    m = hashlib.md5()\n",
    "#     os.path.join(rootdir, filename)\n",
    "    with open( filename, \"rb\" ) as f:\n",
    "        while True:\n",
    "            buf = f.read(blocksize)\n",
    "            if not buf:\n",
    "                break\n",
    "            m.update( buf )\n",
    "    return m.hexdigest()\n",
    "\n",
    "\n",
    "def set_md5_local():\n",
    "    for index, row in df.iterrows():\n",
    "        if (row['Formato'] in ['Digital', 'Audiovisual'] and type(row['md5 local']) is not str):\n",
    "            if (type(row['id_zip']) is str):\n",
    "                file_path = 'arquivos/' + row['Edital'] + '/zip/' + row['id'] + '/' + row['Caminho Local']\n",
    "                print(row['id'] + ' - ' + row['id_zip'])\n",
    "            elif (math.isnan(row['id_zip'])):\n",
    "                file_path = 'arquivos/' + row['Edital'] + '/' + row['id'] + '/' + row['Nome do Arquivo']\n",
    "                print(row['id'])\n",
    "            else:\n",
    "                print('opaa')\n",
    "                continue\n",
    "\n",
    "            try:\n",
    "                md5 = generate_file_md5(file_path)\n",
    "                df.at[index, 'md5 local'] = md5\n",
    "                print(md5)\n",
    "                print('OK')\n",
    "            except Exception as e:\n",
    "                print(e)\n",
    "                break"
   ]
  },
  {
   "cell_type": "code",
   "execution_count": null,
   "metadata": {},
   "outputs": [],
   "source": [
    "# i = 0\n",
    "# min_size = sys.maxsize\n",
    "# max_size = -1\n",
    "# for index, row in df.iterrows():\n",
    "#     if (row['Formato'] in ['Digital', 'Audiovisual'] and type(row['md5 servidor']) is not str):\n",
    "#         if (type(row['id_zip']) is str):\n",
    "#             file_path = row['edital sv'] + '/zip/' + row['id'] + '/' + row['Caminho Local']\n",
    "# #             print(row['id'] + ' - ' + row['id_zip'])\n",
    "#         elif (math.isnan(row['id_zip'])):\n",
    "#             file_path = row['edital sv'] + '/' + row['id'] + '/' + row['Nome do Arquivo']\n",
    "# #             print(row['id'])\n",
    "#         path_size = len(file_path)\n",
    "#         i+=1\n",
    "        \n",
    "#         if (path_size > max_size):\n",
    "#             max_size = path_size\n",
    "#         if(path_size < min_size):\n",
    "#             min_size = path_size\n",
    "        \n",
    "#         print(file_path)\n",
    "            \n",
    "# print('maior:' + str(max_size))\n",
    "# print('menor:' + str(min_size))\n",
    "# print(i)"
   ]
  },
  {
   "cell_type": "code",
   "execution_count": null,
   "metadata": {
    "collapsed": true
   },
   "outputs": [],
   "source": [
    "i = 0\n",
    "max_size = -1\n",
    "for index, row in df.iterrows():\n",
    "    if (row['Formato'] in ['Digital', 'Audiovisual'] and type(row['md5 servidor']) is not str):\n",
    "        if (type(row['id_zip']) is str):\n",
    "            file_path = row['edital sv'] + '/zip/' + row['id'] + '/' + row['Caminho Local']\n",
    "#             print(row['id'] + ' - ' + row['id_zip'])\n",
    "        elif (math.isnan(row['id_zip'])):\n",
    "            file_path = row['edital sv'] + '/' + row['id'] + '/' + row['Nome do Arquivo']\n",
    "#             print(row['id'])\n",
    "        path_size = len(file_path)\n",
    "        if (path_size > max_size):\n",
    "            max_size = path_size\n",
    "                \n",
    "        print(str(i) + '- ' + file_path + '\\n')\n",
    "        i+=1\n",
    "        \n",
    "print('maior:' + str(max_size))\n",
    "print(i)\n",
    "        "
   ]
  },
  {
   "cell_type": "code",
   "execution_count": 17,
   "metadata": {},
   "outputs": [
    {
     "data": {
      "text/plain": [
       "'PNLD 2020 - Obras Didáticas - Anos Finais do Ensino Fundamental/zip/4088/'"
      ]
     },
     "execution_count": 17,
     "metadata": {},
     "output_type": "execute_result"
    }
   ],
   "source": [
    "# src = 'arquivos/PNLD 2020 - Obras Didáticas - Anos Finais do Ensino Fundamental/zip/4088/'\n",
    "# dest = 'PNLD 2020 - Obras Didáticas - Anos Finais do Ensino Fundamental/zip/4088/'\n",
    "# shutil.copytree(src, dest) "
   ]
  },
  {
   "cell_type": "code",
   "execution_count": 21,
   "metadata": {},
   "outputs": [
    {
     "name": "stdout",
     "output_type": "stream",
     "text": [
      "coracao didatica Espaco cenico danca\n"
     ]
    }
   ],
   "source": [
    "# accented_string = 'coração didática Espaço cênico dança'\n",
    "# unaccented_string = unidecode.unidecode(accented_string)\n",
    "# print(unaccented_string)"
   ]
  },
  {
   "cell_type": "code",
   "execution_count": 24,
   "metadata": {},
   "outputs": [],
   "source": [
    "# df.loc[df['id'] == '4088', ['moved']] = 'OK'"
   ]
  },
  {
   "cell_type": "code",
   "execution_count": 26,
   "metadata": {},
   "outputs": [
    {
     "data": {
      "text/plain": [
       "11503    OK\n",
       "11504    OK\n",
       "11505    OK\n",
       "Name: moved, dtype: object"
      ]
     },
     "execution_count": 26,
     "metadata": {},
     "output_type": "execute_result"
    }
   ],
   "source": [
    "# df.loc[df['id'] == '4088']['moved']"
   ]
  },
  {
   "cell_type": "code",
   "execution_count": 39,
   "metadata": {},
   "outputs": [],
   "source": [
    "df.to_csv('dados/atual.csv', index=False)"
   ]
  },
  {
   "cell_type": "code",
   "execution_count": null,
   "metadata": {},
   "outputs": [],
   "source": [
    "so_arq = df['Caminho local']\n",
    "df.to_csv('dados/atual.csv', index=False)"
   ]
  },
  {
   "cell_type": "code",
   "execution_count": 24,
   "metadata": {},
   "outputs": [],
   "source": []
  },
  {
   "cell_type": "code",
   "execution_count": null,
   "metadata": {},
   "outputs": [],
   "source": [
    "df['moved'] = ''\n",
    "for index, row in df.iterrows():\n",
    "    if (row['Formato'] in ['Digital', 'Audiovisual'] and type(row['md5 servidor']) is not str and \n",
    "       row['moved'] == ''):\n",
    "        if (type(row['id_zip']) is str):\n",
    "            src = 'arquivos/' + row['Edital'] + '/zip/' + row['id'] + '/'\n",
    "            dest = row['Edital'] + '/zip/' + row['id'] + '/'\n",
    "        elif (math.isnan(row['id_zip'])):\n",
    "            src = 'arquivos/' + row['Edital'] + '/' + row['id'] + '/'\n",
    "            dest = row['Edital'] + '/' + row['id'] + '/'\n",
    "        \n",
    "        print(row['id'])\n",
    "            \n",
    "        try:\n",
    "            shutil.copytree(src, dest)\n",
    "        except Exception as e:\n",
    "            print(e)\n",
    "            continue\n",
    "            \n",
    "        df.loc[df['id'] == row['id'], ['moved']] = 'OK'\n",
    "                \n",
    "        print('ok')"
   ]
  },
  {
   "cell_type": "code",
   "execution_count": 33,
   "metadata": {},
   "outputs": [],
   "source": [
    "# df.loc[df['Edital'] == 'PNLD 2020 - Obras Didáticas - Anos Finais do Ensino Fundamental', ['edital sv']] =  'pnld_2020'"
   ]
  },
  {
   "cell_type": "code",
   "execution_count": 34,
   "metadata": {},
   "outputs": [],
   "source": [
    "# df.loc[df['Edital'] == 'PNLD 2019 - ATUALIZAÇÃO BNCC - Educação Infantil e Anos Iniciais do Ensino Fundamental', ['edital sv']] =  'pnld_2019'"
   ]
  },
  {
   "cell_type": "code",
   "execution_count": null,
   "metadata": {},
   "outputs": [],
   "source": [
    "# df['edital sv'].unique()"
   ]
  }
 ],
 "metadata": {
  "kernelspec": {
   "display_name": "Python 3",
   "language": "python",
   "name": "python3"
  },
  "language_info": {
   "codemirror_mode": {
    "name": "ipython",
    "version": 3
   },
   "file_extension": ".py",
   "mimetype": "text/x-python",
   "name": "python",
   "nbconvert_exporter": "python",
   "pygments_lexer": "ipython3",
   "version": "3.8.5"
  }
 },
 "nbformat": 4,
 "nbformat_minor": 4
}
