{
 "cells": [
  {
   "cell_type": "code",
   "execution_count": 1,
   "metadata": {
    "id": "vGsldHTYAbYS"
   },
   "outputs": [],
   "source": [
    "import pandas as pd\n",
    "import numpy as np\n",
    "import requests\n",
    "import time\n",
    "import re\n",
    "import os\n",
    "from request_simec import login, get_url, post_url\n",
    "from restrictions import exemplares_aceitos, formatos_aceitos"
   ]
  },
  {
   "cell_type": "code",
   "execution_count": 2,
   "metadata": {
    "id": "8DPHUGxeRrj1"
   },
   "outputs": [],
   "source": [
    "df = pd.read_csv(\n",
    "         'dados/TODOS.csv',\n",
    "         dtype=str\n",
    "    )"
   ]
  },
  {
   "cell_type": "code",
   "execution_count": 3,
   "metadata": {
    "colab": {
     "base_uri": "https://localhost:8080/"
    },
    "id": "BQ_L9W8SP8jh",
    "outputId": "07255aca-397e-4725-c09f-e27506a3dc7f"
   },
   "outputs": [
    {
     "data": {
      "text/plain": [
       "Index(['row', 'id', 'Edital', 'CNPJ Editora', 'Editora', 'Código Coleção',\n",
       "       'Coleção', 'Código Volume', 'Volume', 'Componente', 'Série', 'Formato',\n",
       "       'Exemplar', 'Tipo de Arquivo', 'Arquivo', 'Header', 'Header get()',\n",
       "       'Nome do Arquivo', 'Extensão do Arquivo', 'Deve ser baixado', 'Baixado',\n",
       "       'Caminho Local', 'Extensão do Arquivo no Header'],\n",
       "      dtype='object')"
      ]
     },
     "execution_count": 3,
     "metadata": {},
     "output_type": "execute_result"
    }
   ],
   "source": [
    "df.columns"
   ]
  },
  {
   "cell_type": "code",
   "execution_count": 4,
   "metadata": {
    "colab": {
     "base_uri": "https://localhost:8080/"
    },
    "id": "r0dq5AZ-HKIG",
    "outputId": "5f6e6806-4a79-4caa-f0c0-ca2981d6c3b8"
   },
   "outputs": [
    {
     "data": {
      "text/plain": [
       "<Response [200]>"
      ]
     },
     "execution_count": 4,
     "metadata": {},
     "output_type": "execute_result"
    }
   ],
   "source": [
    "headers = {'user-agent': 'Mozilla/5.0 (Windows NT 10.0; Win64; x64) AppleWebKit/537.36 (KHTML, like Gecko) Chrome/86.0.4240.75 Safari/537.36'}\n",
    "proxies = {\n",
    " 'http': 'http://192.168.0.105:3128',\n",
    " 'https': 'http://192.168.0.105:3128',\n",
    "}\n",
    "s = requests.Session()\n",
    "s.proxies = proxies\n",
    "s.get(get_url, proxies=proxies)\n",
    "s.post(post_url, data=login, proxies=proxies)"
   ]
  },
  {
   "cell_type": "code",
   "execution_count": null,
   "metadata": {
    "scrolled": false
   },
   "outputs": [
    {
     "name": "stdout",
     "output_type": "stream",
     "text": [
      "1 - 3051 0360P20042_VONTADE_DE_SABER_HISTORIA_V6.zip x-zip-compressed\n",
      "{'Date': 'Thu, 18 Mar 2021 11:19:21 GMT', 'Server': 'Apache', 'X-Powered-By': 'PHP/5.5.32 ZendServer/8.5.3', 'Expires': 'Thu, 19 Nov 1981 08:52:00 GMT', 'Cache-Control': 'no-store, no-cache, must-revalidate, post-check=0, pre-check=0', 'Pragma': 'no-cache', 'Content-Disposition': 'attachment; filename=0360P20042_VONTADE_DE_SABER_HISTORIA_V6.zip', 'Content-Type': 'application/x-zip-compressed', 'X-Cache': 'MISS from DESKTOP-5MC4HSU', 'Transfer-Encoding': 'chunked', 'Via': '1.1 DESKTOP-5MC4HSU (squid/3.5.28)', 'Connection': 'keep-alive'}\n",
      "BAIXADO!\n",
      "zzz\n",
      "\n",
      "2 - 3059 0360P20042_AUDIOVISUAIS_VONTADE_DE_SABER_HISTORIA_V7.zip x-zip-compressed\n",
      "{'Date': 'Thu, 18 Mar 2021 11:33:43 GMT', 'Server': 'Apache', 'X-Powered-By': 'PHP/5.5.32 ZendServer/8.5.3', 'Expires': 'Thu, 19 Nov 1981 08:52:00 GMT', 'Cache-Control': 'no-store, no-cache, must-revalidate, post-check=0, pre-check=0', 'Pragma': 'no-cache', 'Content-Disposition': 'attachment; filename=0360P20042_AUDIOVISUAIS_VONTADE_DE_SABER_HISTORIA_V7.zip', 'Content-Type': 'application/x-zip-compressed', 'X-Cache': 'MISS from DESKTOP-5MC4HSU', 'Transfer-Encoding': 'chunked', 'Via': '1.1 DESKTOP-5MC4HSU (squid/3.5.28)', 'Connection': 'keep-alive'}\n",
      "BAIXADO!\n",
      "zzz\n",
      "\n",
      "3 - 3067 0360P20042_AUDIOVISUAIS_VONTADE_DE_SABER_HISTORIA_V8.zip x-zip-compressed\n",
      "{'Date': 'Thu, 18 Mar 2021 11:46:04 GMT', 'Server': 'Apache', 'X-Powered-By': 'PHP/5.5.32 ZendServer/8.5.3', 'Expires': 'Thu, 19 Nov 1981 08:52:00 GMT', 'Cache-Control': 'no-store, no-cache, must-revalidate, post-check=0, pre-check=0', 'Pragma': 'no-cache', 'Content-Disposition': 'attachment; filename=0360P20042_AUDIOVISUAIS_VONTADE_DE_SABER_HISTORIA_V8.zip', 'Content-Type': 'application/x-zip-compressed', 'X-Cache': 'MISS from DESKTOP-5MC4HSU', 'Transfer-Encoding': 'chunked', 'Via': '1.1 DESKTOP-5MC4HSU (squid/3.5.28)', 'Connection': 'keep-alive'}\n",
      "BAIXADO!\n",
      "zzz\n",
      "\n",
      "4 - 3075 0360P20042_AUDIOVISUAIS_VONTADE_DE_SABER_HISTORIA_V9.zip x-zip-compressed\n",
      "{'Date': 'Thu, 18 Mar 2021 11:55:57 GMT', 'Server': 'Apache', 'X-Powered-By': 'PHP/5.5.32 ZendServer/8.5.3', 'Expires': 'Thu, 19 Nov 1981 08:52:00 GMT', 'Cache-Control': 'no-store, no-cache, must-revalidate, post-check=0, pre-check=0', 'Pragma': 'no-cache', 'Content-Disposition': 'attachment; filename=0360P20042_AUDIOVISUAIS_VONTADE_DE_SABER_HISTORIA_V9.zip', 'Content-Type': 'application/x-zip-compressed', 'X-Cache': 'MISS from DESKTOP-5MC4HSU', 'Transfer-Encoding': 'chunked', 'Via': '1.1 DESKTOP-5MC4HSU (squid/3.5.28)', 'Connection': 'keep-alive'}\n",
      "BAIXADO!\n",
      "zzz\n",
      "\n",
      "5 - 3130 0372P20052_AUDIOVISUAIS_VONTADE_DE_SABER_GEOGRAFIA_V9.zip x-zip-compressed\n",
      "{'Date': 'Thu, 18 Mar 2021 12:08:51 GMT', 'Server': 'Apache', 'X-Powered-By': 'PHP/5.5.32 ZendServer/8.5.3', 'Expires': 'Thu, 19 Nov 1981 08:52:00 GMT', 'Cache-Control': 'no-store, no-cache, must-revalidate, post-check=0, pre-check=0', 'Pragma': 'no-cache', 'Content-Disposition': 'attachment; filename=0372P20052_AUDIOVISUAIS_VONTADE_DE_SABER_GEOGRAFIA_V9.zip', 'Content-Type': 'application/x-zip-compressed', 'X-Cache': 'MISS from DESKTOP-5MC4HSU', 'Transfer-Encoding': 'chunked', 'Via': '1.1 DESKTOP-5MC4HSU (squid/3.5.28)', 'Connection': 'keep-alive'}\n",
      "BAIXADO!\n",
      "zzz\n",
      "\n",
      "6 - 3957 0369P20032_AUDIOVISUAIS_INSPIRE_CIENCIAS_V6.zip x-zip-compressed\n",
      "{'Date': 'Thu, 18 Mar 2021 12:19:22 GMT', 'Server': 'Apache', 'X-Powered-By': 'PHP/5.5.32 ZendServer/8.5.3', 'Expires': 'Thu, 19 Nov 1981 08:52:00 GMT', 'Cache-Control': 'no-store, no-cache, must-revalidate, post-check=0, pre-check=0', 'Pragma': 'no-cache', 'Content-Disposition': 'attachment; filename=0369P20032_AUDIOVISUAIS_INSPIRE_CIENCIAS_V6.zip', 'Content-Type': 'application/x-zip-compressed', 'X-Cache': 'MISS from DESKTOP-5MC4HSU', 'Transfer-Encoding': 'chunked', 'Via': '1.1 DESKTOP-5MC4HSU (squid/3.5.28)', 'Connection': 'keep-alive'}\n",
      "BAIXADO!\n",
      "zzz\n",
      "\n",
      "7 - 3965 0369P20032_AUDIOVISUAIS_INSPIRE_CIENCIAS_V7.zip x-zip-compressed\n",
      "{'Date': 'Thu, 18 Mar 2021 12:30:05 GMT', 'Server': 'Apache', 'X-Powered-By': 'PHP/5.5.32 ZendServer/8.5.3', 'Expires': 'Thu, 19 Nov 1981 08:52:00 GMT', 'Cache-Control': 'no-store, no-cache, must-revalidate, post-check=0, pre-check=0', 'Pragma': 'no-cache', 'Content-Disposition': 'attachment; filename=0369P20032_AUDIOVISUAIS_INSPIRE_CIENCIAS_V7.zip', 'Content-Type': 'application/x-zip-compressed', 'X-Cache': 'MISS from DESKTOP-5MC4HSU', 'Transfer-Encoding': 'chunked', 'Via': '1.1 DESKTOP-5MC4HSU (squid/3.5.28)', 'Connection': 'keep-alive'}\n",
      "BAIXADO!\n",
      "zzz\n",
      "\n",
      "8 - 3974 0369P20032_AUDIOVISUAIS_INSPIRE_CIENCIAS_V8.zip zip\n",
      "{'Date': 'Thu, 18 Mar 2021 12:40:19 GMT', 'Server': 'Apache', 'X-Powered-By': 'PHP/5.5.32 ZendServer/8.5.3', 'Expires': 'Thu, 19 Nov 1981 08:52:00 GMT', 'Cache-Control': 'no-store, no-cache, must-revalidate, post-check=0, pre-check=0', 'Pragma': 'no-cache', 'Content-Disposition': 'attachment; filename=0369P20032_AUDIOVISUAIS_INSPIRE_CIENCIAS_V8.zip', 'Content-Type': 'application/zip', 'X-Cache': 'MISS from DESKTOP-5MC4HSU', 'Transfer-Encoding': 'chunked', 'Via': '1.1 DESKTOP-5MC4HSU (squid/3.5.28)', 'Connection': 'keep-alive'}\n",
      "BAIXADO!\n",
      "zzz\n",
      "\n",
      "9 - 3982 0369P20032_AUDIOVISUAIS_INSPIRE_CIENCIAS_V9.zip x-zip-compressed\n",
      "{'Date': 'Thu, 18 Mar 2021 12:54:08 GMT', 'Server': 'Apache', 'X-Powered-By': 'PHP/5.5.32 ZendServer/8.5.3', 'Expires': 'Thu, 19 Nov 1981 08:52:00 GMT', 'Cache-Control': 'no-store, no-cache, must-revalidate, post-check=0, pre-check=0', 'Pragma': 'no-cache', 'Content-Disposition': 'attachment; filename=0369P20032_AUDIOVISUAIS_INSPIRE_CIENCIAS_V9.zip', 'Content-Type': 'application/x-zip-compressed', 'X-Cache': 'MISS from DESKTOP-5MC4HSU', 'Transfer-Encoding': 'chunked', 'Via': '1.1 DESKTOP-5MC4HSU (squid/3.5.28)', 'Connection': 'keep-alive'}\n",
      "BAIXADO!\n",
      "zzz\n",
      "\n",
      "10 - 3990 0371P20042_AUDIOVISUAIS_INSPIRE_HISTORIA_V6.zip x-zip-compressed\n",
      "{'Date': 'Thu, 18 Mar 2021 12:59:45 GMT', 'Server': 'Apache', 'X-Powered-By': 'PHP/5.5.32 ZendServer/8.5.3', 'Expires': 'Thu, 19 Nov 1981 08:52:00 GMT', 'Cache-Control': 'no-store, no-cache, must-revalidate, post-check=0, pre-check=0', 'Pragma': 'no-cache', 'Content-Disposition': 'attachment; filename=0371P20042_AUDIOVISUAIS_INSPIRE_HISTORIA_V6.zip', 'Content-Type': 'application/x-zip-compressed', 'X-Cache': 'MISS from DESKTOP-5MC4HSU', 'Transfer-Encoding': 'chunked', 'Via': '1.1 DESKTOP-5MC4HSU (squid/3.5.28)', 'Connection': 'keep-alive'}\n",
      "BAIXADO!\n",
      "zzz\n",
      "\n",
      "11 - 3998 0371P20042_AUDIOVISUAIS_INSPIRE_HISTORIA_V7.zip x-zip-compressed\n",
      "{'Date': 'Thu, 18 Mar 2021 13:17:01 GMT', 'Server': 'Apache', 'X-Powered-By': 'PHP/5.5.32 ZendServer/8.5.3', 'Expires': 'Thu, 19 Nov 1981 08:52:00 GMT', 'Cache-Control': 'no-store, no-cache, must-revalidate, post-check=0, pre-check=0', 'Pragma': 'no-cache', 'Content-Disposition': 'attachment; filename=0371P20042_AUDIOVISUAIS_INSPIRE_HISTORIA_V7.zip', 'Content-Type': 'application/x-zip-compressed', 'X-Cache': 'MISS from DESKTOP-5MC4HSU', 'Transfer-Encoding': 'chunked', 'Via': '1.1 DESKTOP-5MC4HSU (squid/3.5.28)', 'Connection': 'keep-alive'}\n",
      "BAIXADO!\n",
      "zzz\n",
      "\n",
      "12 - 4006 0371P20042_AUDIOVISUAIS_INSPIRE_HISTORIA_V8.zip x-zip-compressed\n",
      "{'Date': 'Thu, 18 Mar 2021 13:27:07 GMT', 'Server': 'Apache', 'X-Powered-By': 'PHP/5.5.32 ZendServer/8.5.3', 'Expires': 'Thu, 19 Nov 1981 08:52:00 GMT', 'Cache-Control': 'no-store, no-cache, must-revalidate, post-check=0, pre-check=0', 'Pragma': 'no-cache', 'Content-Disposition': 'attachment; filename=0371P20042_AUDIOVISUAIS_INSPIRE_HISTORIA_V8.zip', 'Content-Type': 'application/x-zip-compressed', 'X-Cache': 'MISS from DESKTOP-5MC4HSU', 'Transfer-Encoding': 'chunked', 'Via': '1.1 DESKTOP-5MC4HSU (squid/3.5.28)', 'Connection': 'keep-alive'}\n",
      "BAIXADO!\n",
      "zzz\n",
      "\n",
      "13 - 4015 0371P20042_AUDIOVISUAIS_INSPIRE_HISTORIA_V9.zip x-zip-compressed\n"
     ]
    }
   ],
   "source": [
    "i = 1\n",
    "for index, row in df.iterrows():  \n",
    "  if (row['Extensão do Arquivo'] in ['zip', 'x-zip-compressed']) and (row['Formato'] == 'Audiovisual') and (row['Deve ser baixado'] == 'Sim') and (row['Baixado'] == 'Não'):\n",
    "    \n",
    "    print(str(i) + ' - ' + row['id'] + ' ' + row['Nome do Arquivo'] + ' ' + row['Extensão do Arquivo'])\n",
    "    print\n",
    "    \n",
    "    r = s.get(row['Arquivo'], headers=headers, proxies=proxies)\n",
    "    \n",
    "    \n",
    "    filename = 'arquivos/' + row['Edital'] + '/' + row['id'] + '/' + row['Nome do Arquivo']\n",
    "    print(r.headers)\n",
    "    \n",
    "    if \"X-Squid-Error\" in r.headers.keys():\n",
    "        print('DEU RUIM')\n",
    "        break\n",
    "    \n",
    "    os.makedirs(os.path.dirname(filename), exist_ok=True)\n",
    "    with open(filename, \"wb\") as f:\n",
    "        f.write(r.content)\n",
    "    \n",
    "    df.at[index, 'Baixado'] = 'Sim'\n",
    "    \n",
    "    \n",
    "    print('BAIXADO!')\n",
    "    \n",
    "    i += 1\n",
    "    \n",
    "    df.to_csv('dados/TODOS.csv', index=False)\n",
    "    \n",
    "    time.sleep(30)\n",
    "    s.get(get_url, proxies=proxies)\n",
    "    print('zzz\\n')\n",
    "    time.sleep(45)\n",
    "\n",
    "!calc()\n",
    "    "
   ]
  },
  {
   "cell_type": "code",
   "execution_count": 21,
   "metadata": {},
   "outputs": [
    {
     "name": "stdout",
     "output_type": "stream",
     "text": [
      "6589 Não\n"
     ]
    }
   ],
   "source": [
    "for index, row in df.iterrows():\n",
    "  if (row['id'] in ['6589']):\n",
    "    df.at[index, 'Baixado'] = 'Não'\n",
    "    print(row['id'] + ' ' + row['Baixado'])"
   ]
  },
  {
   "cell_type": "code",
   "execution_count": null,
   "metadata": {},
   "outputs": [],
   "source": [
    "df[]"
   ]
  },
  {
   "cell_type": "code",
   "execution_count": 25,
   "metadata": {},
   "outputs": [],
   "source": [
    "for index, row in df.iterrows():\n",
    "  if (row['Extensão do Arquivo'] == 'text/html; charset=ISO-8859-1') and (row['Deve ser baixado'] == 'Sim') and (int(row['id']) >= 6614):\n",
    "    df.at[index, 'Baixado'] = 'Não'\n",
    "\n",
    "!calc()"
   ]
  },
  {
   "cell_type": "code",
   "execution_count": 15,
   "metadata": {
    "id": "s9YTt-Q-0ib4"
   },
   "outputs": [],
   "source": [
    "df.to_csv('dados/TODOS.csv', index = False)"
   ]
  },
  {
   "cell_type": "code",
   "execution_count": 3,
   "metadata": {
    "colab": {
     "base_uri": "https://localhost:8080/",
     "height": 473
    },
    "collapsed": true,
    "id": "hdSZT6snJh2i",
    "outputId": "6e7cf224-041a-41db-d7e6-570ded105b02"
   },
   "outputs": [
    {
     "ename": "NameError",
     "evalue": "name 'df' is not defined",
     "output_type": "error",
     "traceback": [
      "\u001b[1;31m---------------------------------------------------------------------------\u001b[0m",
      "\u001b[1;31mNameError\u001b[0m                                 Traceback (most recent call last)",
      "\u001b[1;32m<ipython-input-3-afd92f3b3f76>\u001b[0m in \u001b[0;36m<module>\u001b[1;34m\u001b[0m\n\u001b[1;32m----> 1\u001b[1;33m \u001b[1;32mfor\u001b[0m \u001b[0mindex\u001b[0m\u001b[1;33m,\u001b[0m \u001b[0mrow\u001b[0m \u001b[1;32min\u001b[0m \u001b[0mdf\u001b[0m\u001b[1;33m.\u001b[0m\u001b[0miterrows\u001b[0m\u001b[1;33m(\u001b[0m\u001b[1;33m)\u001b[0m\u001b[1;33m:\u001b[0m\u001b[1;33m\u001b[0m\u001b[1;33m\u001b[0m\u001b[0m\n\u001b[0m\u001b[0;32m      2\u001b[0m   \u001b[1;32mif\u001b[0m \u001b[1;33m(\u001b[0m\u001b[0mrow\u001b[0m\u001b[1;33m[\u001b[0m\u001b[1;34m'Formato'\u001b[0m\u001b[1;33m]\u001b[0m \u001b[1;32min\u001b[0m \u001b[0mformatos_aceitos\u001b[0m\u001b[1;33m)\u001b[0m \u001b[1;32mand\u001b[0m \u001b[1;33m(\u001b[0m\u001b[0mrow\u001b[0m\u001b[1;33m[\u001b[0m\u001b[1;34m'Exemplar'\u001b[0m\u001b[1;33m]\u001b[0m \u001b[1;32min\u001b[0m \u001b[0mexemplares_aceitos\u001b[0m\u001b[1;33m)\u001b[0m\u001b[1;33m:\u001b[0m\u001b[1;33m\u001b[0m\u001b[1;33m\u001b[0m\u001b[0m\n\u001b[0;32m      3\u001b[0m     \u001b[0mdf\u001b[0m\u001b[1;33m.\u001b[0m\u001b[0mat\u001b[0m\u001b[1;33m[\u001b[0m\u001b[0mindex\u001b[0m\u001b[1;33m,\u001b[0m \u001b[1;34m'Deve ser baixado'\u001b[0m\u001b[1;33m]\u001b[0m \u001b[1;33m=\u001b[0m \u001b[1;34m'Sim'\u001b[0m\u001b[1;33m\u001b[0m\u001b[1;33m\u001b[0m\u001b[0m\n\u001b[0;32m      4\u001b[0m     \u001b[0mdf\u001b[0m\u001b[1;33m.\u001b[0m\u001b[0mat\u001b[0m\u001b[1;33m[\u001b[0m\u001b[0mindex\u001b[0m\u001b[1;33m,\u001b[0m \u001b[1;34m'Baixado'\u001b[0m\u001b[1;33m]\u001b[0m \u001b[1;33m=\u001b[0m \u001b[1;34m'Não'\u001b[0m\u001b[1;33m\u001b[0m\u001b[1;33m\u001b[0m\u001b[0m\n\u001b[0;32m      5\u001b[0m \u001b[1;33m\u001b[0m\u001b[0m\n",
      "\u001b[1;31mNameError\u001b[0m: name 'df' is not defined"
     ]
    }
   ],
   "source": [
    "#####################################################################################################\n",
    "for index, row in df.iterrows():\n",
    "  if (row['Formato'] in formatos_aceitos) and (row['Exemplar'] in exemplares_aceitos):\n",
    "    df.at[index, 'Deve ser baixado'] = 'Sim'\n",
    "    df.at[index, 'Baixado'] = 'Não'\n",
    "\n",
    "    header = s.head(row['Arquivo'])\n",
    "    \n",
    "    df.at[index, 'Header'] = header.headers\n",
    "    \n",
    "    \n",
    "    if \"content-disposition\" in header.headers.keys():\n",
    "        content_disposition = header.headers['content-disposition']\n",
    "        \n",
    "        try:\n",
    "            f_name = re.findall(\"filename=(.+)\", content_disposition)[0]\n",
    "        except IndexError:\n",
    "            f_name = content_disposition\n",
    "            \n",
    "    else:\n",
    "        f_name = \"NO CONTENT-DISPOSITION\"\n",
    "        \n",
    "    if \"Content-Type\" in header.headers.keys():\n",
    "        content_type = header.headers['Content-Type']\n",
    "        \n",
    "        try:\n",
    "            c_type = re.findall(\"application/(.+)\", content_type)[0]\n",
    "        except IndexError:\n",
    "            c_type = content_type\n",
    "        \n",
    "    else:\n",
    "        c_type = \"NO CONTENT-TYPE\"\n",
    "        \n",
    "    \n",
    "    df.at[index, 'Nome do Arquivo'] = f_name\n",
    "    df.at[index, 'Extensão do Arquivo'] = c_type\n",
    "    \n",
    "    print(row['id'] + ' ' + f_name + ' ' + c_type)\n",
    "\n",
    "  else:\n",
    "    df.at[index, 'Deve ser baixado'] = 'Não'\n",
    "    print(row['id'] + ' ****** ' + 'NÃO DEVE SER BAIXADO')\n",
    "    "
   ]
  }
 ],
 "metadata": {
  "colab": {
   "collapsed_sections": [],
   "name": "teste simec.ipynb",
   "provenance": []
  },
  "kernelspec": {
   "display_name": "Python 3",
   "language": "python",
   "name": "python3"
  },
  "language_info": {
   "codemirror_mode": {
    "name": "ipython",
    "version": 3
   },
   "file_extension": ".py",
   "mimetype": "text/x-python",
   "name": "python",
   "nbconvert_exporter": "python",
   "pygments_lexer": "ipython3",
   "version": "3.8.5"
  }
 },
 "nbformat": 4,
 "nbformat_minor": 1
}
